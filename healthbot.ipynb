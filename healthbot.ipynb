{
 "cells": [
  {
   "cell_type": "markdown",
   "id": "437638bb",
   "metadata": {},
   "source": [
    "# HealthBot: Intelligent Medical Education System\n",
    "\n",
    "**Author: Ricard Santiago Raigada García**\n",
    "\n",
    "This notebook implements a LangGraph flow that:\n",
    "- Receives a patient query.\n",
    "- Performs a medical search using Tavily.\n",
    "- Subsequently, the results are summarized in user-friendly language.\n",
    "- A questionnaire is created to assess the patient's understanding.\n",
    "- A grade is then returned based on the responses obtained from the medical search using Tavily.\n",
    "- Finally, it allows the user to continue learning or log out."
   ]
  },
  {
   "cell_type": "markdown",
   "id": "cb834daf",
   "metadata": {},
   "source": [
    "# Setup"
   ]
  },
  {
   "cell_type": "code",
   "execution_count": 1,
   "id": "90007e21",
   "metadata": {},
   "outputs": [],
   "source": [
    "import time \n",
    "from langgraph.graph import MessagesState, START, StateGraph, END\n",
    "from langchain_openai import ChatOpenAI\n",
    "from langgraph.checkpoint.memory import MemorySaver\n",
    "from langchain_core.runnables import RunnableConfig\n",
    "from IPython.display import Image, display\n",
    "from langchain_core.messages import AIMessage, HumanMessage, SystemMessage\n",
    "from tavily import TavilyClient\n",
    "from typing import Literal\n",
    "from dotenv import load_dotenv\n",
    "import os \n",
    "from IPython.display import Markdown, display\n",
    "\n",
    "load_dotenv('config.env')\n",
    "assert os.getenv('OPENAI_API_KEY') is not None\n",
    "assert os.getenv('TAVILY_API_KEY') is not None\n",
    "\n",
    "llm = ChatOpenAI(\n",
    "    model=\"gpt-4o-mini\",\n",
    "    temperature=0.0,\n",
    ")\n",
    "model = ChatOpenAI(temperature=0, streaming=True)"
   ]
  },
  {
   "cell_type": "markdown",
   "id": "6679f133",
   "metadata": {},
   "source": [
    "## Helpers"
   ]
  },
  {
   "cell_type": "code",
   "execution_count": 2,
   "id": "2c3b0a4d",
   "metadata": {},
   "outputs": [],
   "source": [
    "def display_text_to_user(text: str) -> None:\n",
    "    \"\"\"\n",
    "    Display text to the user with a brief pause.\n",
    "    \n",
    "    Parameters\n",
    "    ----------\n",
    "    text : str\n",
    "        The text to display to the user.\n",
    "    \"\"\"\n",
    "    display(Markdown(\"\"\"\n",
    "---\n",
    "### 🤖 HealthBot Response\n",
    "\"\"\"))\n",
    "    display(Markdown(text))\n",
    "    time.sleep(1)\n",
    "\n",
    "\n",
    "def ask_user_for_input(input_description: str) -> str:\n",
    "    \"\"\"\n",
    "    Ask the user for input and return the response\n",
    "\n",
    "    Parameters\n",
    "    ----------\n",
    "    input_description : str\n",
    "        The description of the input to ask from the user\n",
    "\n",
    "    Returns\n",
    "    -------\n",
    "    str\n",
    "        The user's response\n",
    "    \"\"\"\n",
    "    display(Markdown(\"\"\"\n",
    "---\n",
    "### 🧠 Patient Interaction\n",
    "\"\"\"))\n",
    "    display(Markdown(f\"**{input_description.strip()}**\"))\n",
    "    response = input().strip().lower()\n",
    "    return response"
   ]
  },
  {
   "cell_type": "markdown",
   "id": "d97f499f",
   "metadata": {},
   "source": [
    "## State LangGraph Flow"
   ]
  },
  {
   "cell_type": "code",
   "execution_count": 3,
   "id": "417d647c",
   "metadata": {},
   "outputs": [],
   "source": [
    "class State(MessagesState):\n",
    "    question: str\n",
    "    search_results: dict\n",
    "    summary: str\n",
    "    action: Literal[\"show_summary\", \"generate_quiz_question\"]\n",
    "    quiz_question: str = \"\"\n",
    "    patient_answer: str = \"\"\n",
    "    grade: str = \"\""
   ]
  },
  {
   "cell_type": "markdown",
   "id": "b83f2236",
   "metadata": {},
   "source": [
    "## Utils"
   ]
  },
  {
   "cell_type": "code",
   "execution_count": 4,
   "id": "ba4d0dc0",
   "metadata": {},
   "outputs": [],
   "source": [
    "def stream_and_store(state: State, prompt: str, save_key: str) -> str:\n",
    "    \"\"\"\n",
    "    Stream a response from the LLM, print it, update messages, and store the result in state.\n",
    "    \n",
    "    Parameters\n",
    "    ----------\n",
    "    state : State\n",
    "        The current LangGraph state\n",
    "    prompt : str\n",
    "        The prompt to send to the LLM\n",
    "    save_key : str\n",
    "        The key in the state dictionary where the result will be saved (e.g., \"summary\", \"quiz_question\", etc.)\n",
    "    \n",
    "    Returns\n",
    "    -------\n",
    "    str\n",
    "        The full generated response\n",
    "    \"\"\"\n",
    "    chunks = []\n",
    "    paragraph_buffer = \"\"\n",
    "    \n",
    "    for chunk in llm.stream([HumanMessage(content=prompt)]):\n",
    "        paragraph_buffer += chunk.content\n",
    "        if any(end in paragraph_buffer for end in [\". \", \"\\n\", \"? \", \"! \"]):\n",
    "            display(Markdown(paragraph_buffer.strip()))\n",
    "            time.sleep(0.7)\n",
    "            chunks.append(paragraph_buffer)\n",
    "            paragraph_buffer = \"\"\n",
    "\n",
    "    if paragraph_buffer.strip():\n",
    "        display(Markdown(paragraph_buffer.strip()))\n",
    "        chunks.append(paragraph_buffer)\n",
    "\n",
    "    result = \"\".join(chunks)\n",
    "    state[save_key] = result\n",
    "    state[\"messages\"] += [HumanMessage(content=prompt), AIMessage(content=result)]\n",
    "    return result\n",
    "\n"
   ]
  },
  {
   "cell_type": "markdown",
   "id": "70ebef41",
   "metadata": {},
   "source": [
    "## Nodes"
   ]
  },
  {
   "cell_type": "code",
   "execution_count": 5,
   "id": "c4c46fbe",
   "metadata": {},
   "outputs": [],
   "source": [
    "def ask_health_topic(state: State) -> State:\n",
    "    \"\"\"\n",
    "    Ask the user for a health topic to learn about\n",
    "    Parameters\n",
    "    ----------\n",
    "    state : State\n",
    "        The current state of the conversation\n",
    "    Returns\n",
    "    -------\n",
    "    State\n",
    "        The updated state with the user's question\n",
    "    \"\"\"\n",
    "    display_text_to_user(\"Welcome to HealthBot!\")\n",
    "    topic = ask_user_for_input(\"What health topic or medical condition would you like to learn about?\\n\")\n",
    "    \n",
    "    state[\"question\"] = topic\n",
    "    state[\"messages\"].append({\"role\": \"user\", \"content\": topic})\n",
    "    return state\n",
    "\n",
    "\n",
    "def search_tavily(state: State) -> dict:\n",
    "    \"\"\"\n",
    "    Search for information on the given health topic using Tavily API\n",
    "    Parameters\n",
    "    ----------\n",
    "    state : State\n",
    "        The current state of the conversation\n",
    "    Returns\n",
    "    -------\n",
    "    dict\n",
    "        The updated state with the search results\n",
    "    \"\"\"\n",
    "    tavily_client = TavilyClient(api_key=os.getenv(\"TAVILY_API_KEY\"))\n",
    "    response = tavily_client.search(state[\"question\"])\n",
    "    state[\"search_results\"] = response\n",
    "    return state\n",
    "\n",
    "\n",
    "def summarize_results(state: State) -> dict:\n",
    "    \"\"\"\n",
    "    Summarizes the search results into a patient-friendly summary\n",
    "    \n",
    "    Parameters\n",
    "    ----------\n",
    "    state : State\n",
    "        The current state of the conversation\n",
    "    Returns\n",
    "    -------\n",
    "    dict\n",
    "        The updated state with the summary\n",
    "    \"\"\"\n",
    "    raw_results = state[\"search_results\"]\n",
    "    content = \"\\n\".join([r[\"content\"] for r in raw_results[\"results\"]])\n",
    "\n",
    "    prompt = (\n",
    "        \"Summarize the following medical information in a clear, simple, and patient-friendly way. \"\n",
    "        \"Assume the reader has no medical or technical background. Focus on making the content easy to understand, \"\n",
    "        \"highlighting the most important points for a general audience:\\n\\n\"\n",
    "        f\"{content}\"\n",
    "    )\n",
    "\n",
    "    stream_and_store(state, prompt, \"summary\")\n",
    "    return state\n",
    "\n",
    "\n",
    "def comprehension_router(state: dict) -> str:\n",
    "    \"\"\"\n",
    "    Determines the next action based on user readiness for assessment\n",
    "    \n",
    "    Parameters\n",
    "    ----------\n",
    "    state : dict\n",
    "        The current state of the conversation\n",
    "    Returns\n",
    "    -------\n",
    "    str\n",
    "        The next action to take in the conversation flow\n",
    "    \"\"\"\n",
    "    user_input = ask_user_for_input(\"\\nAre you ready to take an assessment? (yes/no): \")\n",
    "    return \"generate_quiz_question\" if user_input == \"yes\" else \"summarize_results\"\n",
    "\n",
    "\n",
    "def generate_quiz_question(state: State) -> dict:\n",
    "    \"\"\"\n",
    "    Generates a comprehension question based on the medical summary\n",
    "    \n",
    "    Parameters\n",
    "    ----------\n",
    "    state : State\n",
    "        The current state of the conversation\n",
    "    Returns\n",
    "    -------\n",
    "    dict\n",
    "        The updated state with the generated quiz question\n",
    "    \"\"\"\n",
    "    prompt = (\n",
    "        \"Based solely on the following medical summary, generate a single, clear multiple-choice comprehension question \"\n",
    "        \"with four answer options (A, B, C, D). Do not indicate which option is correct, and do not include the answer. \"\n",
    "        \"Your output should include only the question and the four answer choices, properly formatted for display.\\n\\n\"\n",
    "        f\"{state['summary']}\"\n",
    "    )\n",
    "\n",
    "\n",
    "    stream_and_store(state, prompt, \"quiz_question\")\n",
    "    return state\n",
    "\n",
    "\n",
    "def get_patient_answer(state: State) -> dict:\n",
    "    \"\"\"\n",
    "    Asks the patient to provide their answer to the quiz question\n",
    "    \n",
    "    Parameters\n",
    "    ----------\n",
    "    state : State\n",
    "        The current state of the conversation\n",
    "    Returns\n",
    "    -------\n",
    "    dict\n",
    "        The updated state with the patient's answer recorded\n",
    "    \"\"\"\n",
    "    answer = ask_user_for_input(\"\\nYour answer: \")\n",
    "    state[\"patient_answer\"] = answer\n",
    "    state[\"messages\"] = state[\"messages\"] + [HumanMessage(content=answer)]\n",
    "    return state\n",
    "\n",
    "\n",
    "def grade_answer(state: State) -> dict:\n",
    "    \"\"\"\n",
    "    Grades the patient's answer to the quiz question and provides feedback\n",
    "    \n",
    "    Parameters\n",
    "    ----------\n",
    "    state : State\n",
    "        The current state of the conversation\n",
    "    Returns\n",
    "    -------\n",
    "    dict\n",
    "        The updated state with the grade and feedback\n",
    "    \"\"\"\n",
    "    prompt = (\n",
    "        \"Evaluate the following patient response to a question based on a medical summary. \"\n",
    "        \"Assign a letter grade (A, B, C, etc.) and provide a brief explanation for the grade, using only the summary as your source of truth.\\n\\n\"\n",
    "        f\"Medical Summary:\\n{state['summary']}\\n\\n\"\n",
    "        f\"Question:\\n{state['quiz_question']}\\n\\n\"\n",
    "        f\"Patient's Answer:\\n{state['patient_answer']}\"\n",
    "    )\n",
    "    stream_and_store(state, prompt, \"grade\")\n",
    "    return state\n",
    "\n",
    "\n",
    "def ask_to_continue_or_exit(state: State) -> str:\n",
    "    \"\"\"\n",
    "    Asks the user if they want to learn about another topic or exit the bot\n",
    "    Parameters\n",
    "    ----------\n",
    "    state : State\n",
    "        The current state of the conversation\n",
    "    Returns\n",
    "    -------\n",
    "    str\n",
    "    \"\"\"\n",
    "    ask = ask_user_for_input(\"\\nDo you want to learn about another topic? (yes/no): \")\n",
    "    return \"reset_state\" if ask == \"yes\" else \"end_health_bot\"\n",
    "\n",
    "\n",
    "def reset_state(state: State) -> dict:\n",
    "    \"\"\"\n",
    "    Resets the state to allow the user to ask a new question\n",
    "    \n",
    "    Parameters\n",
    "    ----------\n",
    "    state : State\n",
    "        The current state of the conversation\n",
    "    Returns\n",
    "    -------\n",
    "    dict\n",
    "        The reset state with initial values\n",
    "    \"\"\"\n",
    "    topics = llm.invoke([\n",
    "        SystemMessage(content=(\n",
    "            \"You are a healthcare education assistant. \"\n",
    "            \"Given a medical topic from a patient, suggest 4–6 closely related health topics or conditions \"\n",
    "            \"they might also be interested in learning about. \"\n",
    "            \"Respond with a comma-separated list of topics only.\"\n",
    "        )),\n",
    "        HumanMessage(content=state[\"question\"])\n",
    "    ]).content\n",
    "\n",
    "    topics_list = [t.strip() for t in topics.split(\",\") if t.strip()]\n",
    "    if topics_list:\n",
    "        display_text_to_user(\"\\nRelated Health Topics:\\n\" + \"\\n\".join(f\"- {t}\" for t in topics_list))\n",
    "    else:\n",
    "        display_text_to_user(\"No related topics were found.\")\n",
    "\n",
    "    return {\n",
    "        \"question\": \"\",\n",
    "        \"answer\": \"\",\n",
    "        \"search_results\": None,\n",
    "        \"summary\": \"\",\n",
    "        \"quiz_question\": \"\",\n",
    "        \"patient_answer\": \"\",\n",
    "        \"grade\": \"\",\n",
    "        \"messages\": []\n",
    "    }\n",
    "\n",
    "\n",
    "def end_health_bot(state: State) -> dict:\n",
    "    \"\"\"\n",
    "    Ends the HealthBot conversation and thanks the user\n",
    "    Parameters\n",
    "    ----------\n",
    "    state : State\n",
    "        The current state of the conversation\n",
    "    Returns\n",
    "    -------\n",
    "    dict\n",
    "        The final state of the conversation\n",
    "    \"\"\"\n",
    "    return display_text_to_user(\"\\nThanks for using HealthBot. See you later!\")"
   ]
  },
  {
   "cell_type": "markdown",
   "id": "a8c3e858",
   "metadata": {},
   "source": [
    "## LangGraph Graph"
   ]
  },
  {
   "cell_type": "code",
   "execution_count": 6,
   "id": "236ef603",
   "metadata": {},
   "outputs": [],
   "source": [
    "workflow = StateGraph(State)"
   ]
  },
  {
   "cell_type": "markdown",
   "id": "6baba86e",
   "metadata": {},
   "source": [
    "### Nodes"
   ]
  },
  {
   "cell_type": "code",
   "execution_count": 7,
   "id": "e234a31a",
   "metadata": {},
   "outputs": [],
   "source": [
    "workflow.add_node(\"ask_health_topic\", ask_health_topic)\n",
    "workflow.add_node(\"search_tavily\", search_tavily)\n",
    "workflow.add_node(\"summarize_results\", summarize_results)\n",
    "workflow.add_node(\"generate_quiz_question\", generate_quiz_question)\n",
    "workflow.add_node(\"get_patient_answer\", get_patient_answer)\n",
    "workflow.add_node(\"grade_answer\", grade_answer)\n",
    "workflow.add_node(\"reset_state\", reset_state)\n",
    "workflow.add_node(\"end_health_bot\", end_health_bot)"
   ]
  },
  {
   "cell_type": "markdown",
   "id": "1e695021",
   "metadata": {},
   "source": [
    "### Edges"
   ]
  },
  {
   "cell_type": "code",
   "execution_count": 8,
   "id": "9e8a7f82",
   "metadata": {},
   "outputs": [],
   "source": [
    "workflow.add_edge(START, \"ask_health_topic\")\n",
    "workflow.add_edge(\"ask_health_topic\", \"search_tavily\")\n",
    "workflow.add_edge(\"search_tavily\", \"summarize_results\")\n",
    "workflow.add_conditional_edges(\n",
    "    source=\"summarize_results\",\n",
    "    path=comprehension_router,\n",
    "    path_map=[\"summarize_results\", \"generate_quiz_question\"],\n",
    ")\n",
    "workflow.add_edge(\"generate_quiz_question\", \"get_patient_answer\")\n",
    "workflow.add_edge(\"get_patient_answer\", \"grade_answer\")\n",
    "workflow.add_conditional_edges(\n",
    "    source=\"grade_answer\",\n",
    "    path=ask_to_continue_or_exit,\n",
    "    path_map=[\"reset_state\", \"end_health_bot\"],\n",
    ")\n",
    "workflow.add_edge(\"reset_state\", \"ask_health_topic\")\n",
    "workflow.add_edge(\"end_health_bot\", END)\n",
    "\n"
   ]
  },
  {
   "cell_type": "markdown",
   "id": "a3f82ab9",
   "metadata": {},
   "source": [
    "## Inicialition and Run"
   ]
  },
  {
   "cell_type": "code",
   "execution_count": 9,
   "id": "01e4cdf0",
   "metadata": {},
   "outputs": [],
   "source": [
    "memory = MemorySaver()\n",
    "app = workflow.compile(checkpointer=memory)\n",
    "config = RunnableConfig(recursion_limit=2000, configurable={\"thread_id\": \"1\"})  \n",
    "initial_state = State(messages=[], example=\"\")"
   ]
  },
  {
   "cell_type": "code",
   "execution_count": 10,
   "id": "4501044e",
   "metadata": {},
   "outputs": [
    {
     "data": {
      "image/jpeg": "[encoded data removed]",
      "text/plain": [
       "<IPython.core.display.Image object>"
      ]
     },
     "metadata": {},
     "output_type": "display_data"
    }
   ],
   "source": [
    "display(Image(app.get_graph().draw_mermaid_png()))"
   ]
  },
  {
   "cell_type": "code",
   "execution_count": 11,
   "id": "7784e9d5",
   "metadata": {
    "scrolled": false
   },
   "outputs": [
    {
     "data": {
      "text/markdown": [
       "\n",
       "---\n",
       "### 🤖 HealthBot Response\n"
      ],
      "text/plain": [
       "<IPython.core.display.Markdown object>"
      ]
     },
     "metadata": {},
     "output_type": "display_data"
    },
    {
     "data": {
      "text/markdown": [
       "Welcome to HealthBot!"
      ],
      "text/plain": [
       "<IPython.core.display.Markdown object>"
      ]
     },
     "metadata": {},
     "output_type": "display_data"
    },
    {
     "data": {
      "text/markdown": [
       "\n",
       "---\n",
       "### 🧠 Patient Interaction\n"
      ],
      "text/plain": [
       "<IPython.core.display.Markdown object>"
      ]
     },
     "metadata": {},
     "output_type": "display_data"
    },
    {
     "data": {
      "text/markdown": [
       "**What health topic or medical condition would you like to learn about?**"
      ],
      "text/plain": [
       "<IPython.core.display.Markdown object>"
      ]
     },
     "metadata": {},
     "output_type": "display_data"
    },
    {
     "name": "stdout",
     "output_type": "stream",
     "text": [
      "asma\n"
     ]
    },
    {
     "data": {
      "text/markdown": [
       "**Understanding Asthma: A Simple Guide**"
      ],
      "text/plain": [
       "<IPython.core.display.Markdown object>"
      ]
     },
     "metadata": {},
     "output_type": "display_data"
    },
    {
     "data": {
      "text/markdown": [
       "Asthma is a long-term lung condition that makes it hard to breathe. It"
      ],
      "text/plain": [
       "<IPython.core.display.Markdown object>"
      ]
     },
     "metadata": {},
     "output_type": "display_data"
    },
    {
     "data": {
      "text/markdown": [
       "happens when the airways in your lungs become narrow, swollen, and filled with extra mucus. This"
      ],
      "text/plain": [
       "<IPython.core.display.Markdown object>"
      ]
     },
     "metadata": {},
     "output_type": "display_data"
    },
    {
     "data": {
      "text/markdown": [
       "can lead to symptoms like coughing, wheezing, and feeling short of breath."
      ],
      "text/plain": [
       "<IPython.core.display.Markdown object>"
      ]
     },
     "metadata": {},
     "output_type": "display_data"
    },
    {
     "data": {
      "text/markdown": [
       "### Key Points About Asthma:"
      ],
      "text/plain": [
       "<IPython.core.display.Markdown object>"
      ]
     },
     "metadata": {},
     "output_type": "display_data"
    },
    {
     "data": {
      "text/markdown": [
       "- **Chronic Condition**: Asthma is ongoing and doesn't go away on its own. It"
      ],
      "text/plain": [
       "<IPython.core.display.Markdown object>"
      ]
     },
     "metadata": {},
     "output_type": "display_data"
    },
    {
     "data": {
      "text/markdown": [
       "requires regular medical care and management."
      ],
      "text/plain": [
       "<IPython.core.display.Markdown object>"
      ]
     },
     "metadata": {},
     "output_type": "display_data"
    },
    {
     "data": {
      "text/markdown": [],
      "text/plain": [
       "<IPython.core.display.Markdown object>"
      ]
     },
     "metadata": {},
     "output_type": "display_data"
    },
    {
     "data": {
      "text/markdown": [
       "- **Symptoms**: Common signs of asthma include:"
      ],
      "text/plain": [
       "<IPython.core.display.Markdown object>"
      ]
     },
     "metadata": {},
     "output_type": "display_data"
    },
    {
     "data": {
      "text/markdown": [
       "- Difficulty breathing"
      ],
      "text/plain": [
       "<IPython.core.display.Markdown object>"
      ]
     },
     "metadata": {},
     "output_type": "display_data"
    },
    {
     "data": {
      "text/markdown": [
       "- Coughing, especially at night or during exercise"
      ],
      "text/plain": [
       "<IPython.core.display.Markdown object>"
      ]
     },
     "metadata": {},
     "output_type": "display_data"
    },
    {
     "data": {
      "text/markdown": [
       "- Wheezing (a whistling sound when you breathe)"
      ],
      "text/plain": [
       "<IPython.core.display.Markdown object>"
      ]
     },
     "metadata": {},
     "output_type": "display_data"
    },
    {
     "data": {
      "text/markdown": [],
      "text/plain": [
       "<IPython.core.display.Markdown object>"
      ]
     },
     "metadata": {},
     "output_type": "display_data"
    },
    {
     "data": {
      "text/markdown": [
       "- **Asthma Attacks**: Sometimes, asthma symptoms can suddenly get worse, leading to an asthma attack. During"
      ],
      "text/plain": [
       "<IPython.core.display.Markdown object>"
      ]
     },
     "metadata": {},
     "output_type": "display_data"
    },
    {
     "data": {
      "text/markdown": [
       "an attack, it becomes very hard to breathe, and you may cough or wheeze more than usual."
      ],
      "text/plain": [
       "<IPython.core.display.Markdown object>"
      ]
     },
     "metadata": {},
     "output_type": "display_data"
    },
    {
     "data": {
      "text/markdown": [
       "- **Causes**: Asthma can be triggered by various factors, including allergies, exercise, cold air, and smoke."
      ],
      "text/plain": [
       "<IPython.core.display.Markdown object>"
      ]
     },
     "metadata": {},
     "output_type": "display_data"
    },
    {
     "data": {
      "text/markdown": [
       "- **Management**: While asthma can't be prevented, you can work with your doctor to create a personalized asthma action plan. This"
      ],
      "text/plain": [
       "<IPython.core.display.Markdown object>"
      ]
     },
     "metadata": {},
     "output_type": "display_data"
    },
    {
     "data": {
      "text/markdown": [
       "plan will help you manage your symptoms and know what to do during an asthma attack."
      ],
      "text/plain": [
       "<IPython.core.display.Markdown object>"
      ]
     },
     "metadata": {},
     "output_type": "display_data"
    },
    {
     "data": {
      "text/markdown": [
       "- **When to See a Doctor**: If your symptoms worsen or if you find yourself needing your rescue inhaler (like albuterol) more often, it's important to consult your doctor."
      ],
      "text/plain": [
       "<IPython.core.display.Markdown object>"
      ]
     },
     "metadata": {},
     "output_type": "display_data"
    },
    {
     "data": {
      "text/markdown": [
       "### Conclusion"
      ],
      "text/plain": [
       "<IPython.core.display.Markdown object>"
      ]
     },
     "metadata": {},
     "output_type": "display_data"
    },
    {
     "data": {
      "text/markdown": [
       "Living with asthma means staying informed and prepared. By"
      ],
      "text/plain": [
       "<IPython.core.display.Markdown object>"
      ]
     },
     "metadata": {},
     "output_type": "display_data"
    },
    {
     "data": {
      "text/markdown": [
       "working closely with your healthcare team, you can manage your condition effectively and lead a healthy life."
      ],
      "text/plain": [
       "<IPython.core.display.Markdown object>"
      ]
     },
     "metadata": {},
     "output_type": "display_data"
    },
    {
     "data": {
      "text/markdown": [
       "\n",
       "---\n",
       "### 🧠 Patient Interaction\n"
      ],
      "text/plain": [
       "<IPython.core.display.Markdown object>"
      ]
     },
     "metadata": {},
     "output_type": "display_data"
    },
    {
     "data": {
      "text/markdown": [
       "**Are you ready to take an assessment? (yes/no):**"
      ],
      "text/plain": [
       "<IPython.core.display.Markdown object>"
      ]
     },
     "metadata": {},
     "output_type": "display_data"
    },
    {
     "name": "stdout",
     "output_type": "stream",
     "text": [
      "yes\n"
     ]
    },
    {
     "data": {
      "text/markdown": [
       "What is a common symptom of asthma?"
      ],
      "text/plain": [
       "<IPython.core.display.Markdown object>"
      ]
     },
     "metadata": {},
     "output_type": "display_data"
    },
    {
     "data": {
      "text/markdown": [
       "A) Increased energy levels"
      ],
      "text/plain": [
       "<IPython.core.display.Markdown object>"
      ]
     },
     "metadata": {},
     "output_type": "display_data"
    },
    {
     "data": {
      "text/markdown": [
       "B) Difficulty breathing"
      ],
      "text/plain": [
       "<IPython.core.display.Markdown object>"
      ]
     },
     "metadata": {},
     "output_type": "display_data"
    },
    {
     "data": {
      "text/markdown": [
       "C) Improved lung capacity"
      ],
      "text/plain": [
       "<IPython.core.display.Markdown object>"
      ]
     },
     "metadata": {},
     "output_type": "display_data"
    },
    {
     "data": {
      "text/markdown": [
       "D) Enhanced sense of smell"
      ],
      "text/plain": [
       "<IPython.core.display.Markdown object>"
      ]
     },
     "metadata": {},
     "output_type": "display_data"
    },
    {
     "data": {
      "text/markdown": [
       "\n",
       "---\n",
       "### 🧠 Patient Interaction\n"
      ],
      "text/plain": [
       "<IPython.core.display.Markdown object>"
      ]
     },
     "metadata": {},
     "output_type": "display_data"
    },
    {
     "data": {
      "text/markdown": [
       "**Your answer:**"
      ],
      "text/plain": [
       "<IPython.core.display.Markdown object>"
      ]
     },
     "metadata": {},
     "output_type": "display_data"
    },
    {
     "name": "stdout",
     "output_type": "stream",
     "text": [
      "b\n"
     ]
    },
    {
     "data": {
      "text/markdown": [
       "Grade: A"
      ],
      "text/plain": [
       "<IPython.core.display.Markdown object>"
      ]
     },
     "metadata": {},
     "output_type": "display_data"
    },
    {
     "data": {
      "text/markdown": [
       "Explanation: The patient's response correctly identifies \"Difficulty breathing\" (option B) as a common symptom of asthma, which is explicitly mentioned in the medical summary. This"
      ],
      "text/plain": [
       "<IPython.core.display.Markdown object>"
      ]
     },
     "metadata": {},
     "output_type": "display_data"
    },
    {
     "data": {
      "text/markdown": [
       "demonstrates a clear understanding of the condition and its symptoms, warranting a top grade."
      ],
      "text/plain": [
       "<IPython.core.display.Markdown object>"
      ]
     },
     "metadata": {},
     "output_type": "display_data"
    },
    {
     "data": {
      "text/markdown": [
       "\n",
       "---\n",
       "### 🧠 Patient Interaction\n"
      ],
      "text/plain": [
       "<IPython.core.display.Markdown object>"
      ]
     },
     "metadata": {},
     "output_type": "display_data"
    },
    {
     "data": {
      "text/markdown": [
       "**Do you want to learn about another topic? (yes/no):**"
      ],
      "text/plain": [
       "<IPython.core.display.Markdown object>"
      ]
     },
     "metadata": {},
     "output_type": "display_data"
    },
    {
     "name": "stdout",
     "output_type": "stream",
     "text": [
      "no\n"
     ]
    },
    {
     "data": {
      "text/markdown": [
       "\n",
       "---\n",
       "### 🤖 HealthBot Response\n"
      ],
      "text/plain": [
       "<IPython.core.display.Markdown object>"
      ]
     },
     "metadata": {},
     "output_type": "display_data"
    },
    {
     "data": {
      "text/markdown": [
       "\n",
       "Thanks for using HealthBot. See you later!"
      ],
      "text/plain": [
       "<IPython.core.display.Markdown object>"
      ]
     },
     "metadata": {},
     "output_type": "display_data"
    },
    {
     "data": {
      "text/plain": [
       "{'messages': [HumanMessage(content='asma', id='e7f77ad6-0c71-48b1-b0a7-bfb874ee41de'),\n",
       "  HumanMessage(content='asma', id='d91d8974-c6b5-485b-a7dc-4f9953bb2e73'),\n",
       "  HumanMessage(content=\"Summarize the following medical information in a clear, simple, and patient-friendly way. Assume the reader has no medical or technical background. Focus on making the content easy to understand, highlighting the most important points for a general audience:\\n\\nGiving Careers Search ClevelandClinic.org Find A Doctor Locations & Directions Patients & Visitors Health Library Institutes & Departments Appointments Home/ Health Library/ Diseases & Conditions/ Asthma Advertisement Advertisement Asthma Bronchial asthma (or asthma) is a lung disease. Your airways get narrow and swollen and are blocked by excess mucus. Asthma, also called bronchial asthma, is a disease that affects your lungs. It’s a chronic (ongoing) condition, meaning it doesn’t go away and needs ongoing medical management. Asthma can be life-threatening if you don’t get treatment.\\nAsthma, a persistent respiratory condition, narrows airways, causing breathlessness and difficulty breathing. Explore symptoms, causes, diagnosis, and treatment on WebMD.\\nPneumonia Pulmonary Hypertension Panic Attacks Bronchospasm Autoimmune Diseases Sinusitis GERD Reactive Airway Disease Everything You Need to Know About Asthma: Symptoms, Types, Causes, Prevention, and More Medically reviewed by Megan Soliman, MD — Written by Kimberly Holland and Laura Goldman — Updated on January 2, 2024 Symptoms Causes Types Diagnosis Treatment Exacerbations Prevention When to see a doctor FAQ Takeaway Asthma occurs because of inflammation and mucus in the lining of your airways. Asthma is an inflammatory disease that can affect the airways to your lungs. It makes breathing difficult and can make some physical activities challenging or even impossible. Asthma symptoms happen when the lining of your airways swells and the muscles around them tighten. Mucus then fills your airways, further reducing the amount of air that can pass through.\\n# Asthma ### Asthma attack ### Asthma attack During an asthma attack, your narrowed airways make it harder to breathe and you may cough and wheeze. During an asthma attack, your narrowed airways make it harder to breathe and you may cough and wheeze. Because asthma often changes over time, it's important that you work with your doctor to track your signs and symptoms and adjust your treatment as needed. Asthma signs and symptoms include: If your asthma symptoms get worse. While there's no way to prevent asthma, you and your doctor can design a step-by-step plan for living with your condition and preventing asthma attacks. With your doctor and health care team, write a detailed plan for taking medications and managing an asthma attack. Asthma care at Mayo Clinic ## Asthma\\nAsthma Types, Causes, Symptoms, Treatment, Medicine, Prognosis Asthma What is asthma? What are the symptoms of asthma? What is asthma? Severe asthma symptoms need medical care immediately. This data includes the age of asthma onset, the presence or absence of environmental allergies, the presence or absence of elevated blood or sputum levels of eosinophils (a type of white blood cell), lung function testing (spirometry and fractional excretion of nitric oxide), obesity, and cigarette smoke exposure. What are the symptoms of asthma? If asthma symptoms are worsening and the use of albuterol is increasing, then asthma patients should have a medical evaluation. An asthma action plan provides an individual with specific directions for daily asthma management and for adjusting medications in response to increasing symptoms or decreasing lung function. What Is Asthma? What is asthma?\", id='75f46863-58d8-4c78-816c-ec670160bda5'),\n",
       "  AIMessage(content=\"**Understanding Asthma: A Simple Guide**\\n\\nAsthma is a long-term lung condition that makes it hard to breathe. It happens when the airways in your lungs become narrow, swollen, and filled with extra mucus. This can lead to symptoms like coughing, wheezing, and feeling short of breath. \\n\\n### Key Points About Asthma:\\n\\n- **Chronic Condition**: Asthma is ongoing and doesn't go away on its own. It requires regular medical care and management.\\n  \\n- **Symptoms**: Common signs of asthma include:\\n  - Difficulty breathing\\n  - Coughing, especially at night or during exercise\\n  - Wheezing (a whistling sound when you breathe)\\n  \\n- **Asthma Attacks**: Sometimes, asthma symptoms can suddenly get worse, leading to an asthma attack. During an attack, it becomes very hard to breathe, and you may cough or wheeze more than usual.\\n\\n- **Causes**: Asthma can be triggered by various factors, including allergies, exercise, cold air, and smoke. \\n\\n- **Management**: While asthma can't be prevented, you can work with your doctor to create a personalized asthma action plan. This plan will help you manage your symptoms and know what to do during an asthma attack.\\n\\n- **When to See a Doctor**: If your symptoms worsen or if you find yourself needing your rescue inhaler (like albuterol) more often, it's important to consult your doctor.\\n\\n### Conclusion\\n\\nLiving with asthma means staying informed and prepared. By working closely with your healthcare team, you can manage your condition effectively and lead a healthy life.\", id='9e4b6493-f2be-4f29-9887-c3ffd761b9a8'),\n",
       "  HumanMessage(content=\"Based solely on the following medical summary, generate a single, clear multiple-choice comprehension question with four answer options (A, B, C, D). Do not indicate which option is correct, and do not include the answer. Your output should include only the question and the four answer choices, properly formatted for display.\\n\\n**Understanding Asthma: A Simple Guide**\\n\\nAsthma is a long-term lung condition that makes it hard to breathe. It happens when the airways in your lungs become narrow, swollen, and filled with extra mucus. This can lead to symptoms like coughing, wheezing, and feeling short of breath. \\n\\n### Key Points About Asthma:\\n\\n- **Chronic Condition**: Asthma is ongoing and doesn't go away on its own. It requires regular medical care and management.\\n  \\n- **Symptoms**: Common signs of asthma include:\\n  - Difficulty breathing\\n  - Coughing, especially at night or during exercise\\n  - Wheezing (a whistling sound when you breathe)\\n  \\n- **Asthma Attacks**: Sometimes, asthma symptoms can suddenly get worse, leading to an asthma attack. During an attack, it becomes very hard to breathe, and you may cough or wheeze more than usual.\\n\\n- **Causes**: Asthma can be triggered by various factors, including allergies, exercise, cold air, and smoke. \\n\\n- **Management**: While asthma can't be prevented, you can work with your doctor to create a personalized asthma action plan. This plan will help you manage your symptoms and know what to do during an asthma attack.\\n\\n- **When to See a Doctor**: If your symptoms worsen or if you find yourself needing your rescue inhaler (like albuterol) more often, it's important to consult your doctor.\\n\\n### Conclusion\\n\\nLiving with asthma means staying informed and prepared. By working closely with your healthcare team, you can manage your condition effectively and lead a healthy life.\", id='9345d1a0-1e90-48fc-893a-9b344c75c362'),\n",
       "  AIMessage(content='What is a common symptom of asthma?\\n\\nA) Increased energy levels  \\nB) Difficulty breathing  \\nC) Improved lung capacity  \\nD) Enhanced sense of smell  ', id='713a365f-c7af-40f8-ae26-a8890e9a47dd'),\n",
       "  HumanMessage(content='b', id='39b66665-6bca-4e8c-bf57-b972ad2521e4'),\n",
       "  HumanMessage(content=\"Evaluate the following patient response to a question based on a medical summary. Assign a letter grade (A, B, C, etc.) and provide a brief explanation for the grade, using only the summary as your source of truth.\\n\\nMedical Summary:\\n**Understanding Asthma: A Simple Guide**\\n\\nAsthma is a long-term lung condition that makes it hard to breathe. It happens when the airways in your lungs become narrow, swollen, and filled with extra mucus. This can lead to symptoms like coughing, wheezing, and feeling short of breath. \\n\\n### Key Points About Asthma:\\n\\n- **Chronic Condition**: Asthma is ongoing and doesn't go away on its own. It requires regular medical care and management.\\n  \\n- **Symptoms**: Common signs of asthma include:\\n  - Difficulty breathing\\n  - Coughing, especially at night or during exercise\\n  - Wheezing (a whistling sound when you breathe)\\n  \\n- **Asthma Attacks**: Sometimes, asthma symptoms can suddenly get worse, leading to an asthma attack. During an attack, it becomes very hard to breathe, and you may cough or wheeze more than usual.\\n\\n- **Causes**: Asthma can be triggered by various factors, including allergies, exercise, cold air, and smoke. \\n\\n- **Management**: While asthma can't be prevented, you can work with your doctor to create a personalized asthma action plan. This plan will help you manage your symptoms and know what to do during an asthma attack.\\n\\n- **When to See a Doctor**: If your symptoms worsen or if you find yourself needing your rescue inhaler (like albuterol) more often, it's important to consult your doctor.\\n\\n### Conclusion\\n\\nLiving with asthma means staying informed and prepared. By working closely with your healthcare team, you can manage your condition effectively and lead a healthy life.\\n\\nQuestion:\\nWhat is a common symptom of asthma?\\n\\nA) Increased energy levels  \\nB) Difficulty breathing  \\nC) Improved lung capacity  \\nD) Enhanced sense of smell  \\n\\nPatient's Answer:\\nb\", id='dc7eac94-2d04-416e-a116-72c65ff79964'),\n",
       "  AIMessage(content='Grade: A\\n\\nExplanation: The patient\\'s response correctly identifies \"Difficulty breathing\" (option B) as a common symptom of asthma, which is explicitly mentioned in the medical summary. This demonstrates a clear understanding of the condition and its symptoms, warranting a top grade.', id='c5aed24d-9de5-44f0-a4d1-da4e2cd71ed8')],\n",
       " 'question': 'asma',\n",
       " 'search_results': {'query': 'asma',\n",
       "  'follow_up_questions': None,\n",
       "  'answer': None,\n",
       "  'images': [],\n",
       "  'results': [{'title': 'Asthma: Types, Causes, Symptoms, Diagnosis & Treatment',\n",
       "    'url': 'https://my.clevelandclinic.org/health/diseases/6424-asthma',\n",
       "    'content': 'Giving Careers Search ClevelandClinic.org Find A Doctor Locations & Directions Patients & Visitors Health Library Institutes & Departments Appointments Home/ Health Library/ Diseases & Conditions/ Asthma Advertisement Advertisement Asthma Bronchial asthma (or asthma) is a lung disease. Your airways get narrow and swollen and are blocked by excess mucus. Asthma, also called bronchial asthma, is a disease that affects your lungs. It’s a chronic (ongoing) condition, meaning it doesn’t go away and needs ongoing medical management. Asthma can be life-threatening if you don’t get treatment.',\n",
       "    'score': 0.6326168,\n",
       "    'raw_content': None},\n",
       "   {'title': 'Asthma: Causes, Symptoms, and Treatment - WebMD',\n",
       "    'url': 'https://www.webmd.com/asthma/what-is-asthma/',\n",
       "    'content': 'Asthma, a persistent respiratory condition, narrows airways, causing breathlessness and difficulty breathing. Explore symptoms, causes, diagnosis, and treatment on WebMD.',\n",
       "    'score': 0.5715041,\n",
       "    'raw_content': None},\n",
       "   {'title': 'Asthma: Symptoms, Treatment, and More - Healthline',\n",
       "    'url': 'https://www.healthline.com/health/asthma',\n",
       "    'content': 'Pneumonia Pulmonary Hypertension Panic Attacks Bronchospasm Autoimmune Diseases Sinusitis GERD Reactive Airway Disease Everything You Need to Know About Asthma: Symptoms, Types, Causes, Prevention, and More Medically reviewed by Megan Soliman, MD — Written by Kimberly Holland and Laura Goldman — Updated on January 2, 2024 Symptoms Causes Types Diagnosis Treatment Exacerbations Prevention When to see a doctor FAQ Takeaway Asthma occurs because of inflammation and mucus in the lining of your airways. Asthma is an inflammatory disease that can affect the airways to your lungs. It makes breathing difficult and can make some physical activities challenging or even impossible. Asthma symptoms happen when the lining of your airways swells and the muscles around them tighten. Mucus then fills your airways, further reducing the amount of air that can pass through.',\n",
       "    'score': 0.5631623,\n",
       "    'raw_content': None},\n",
       "   {'title': 'Asthma - Symptoms and causes - Mayo Clinic',\n",
       "    'url': 'https://www.mayoclinic.org/diseases-conditions/asthma/symptoms-causes/syc-20369653',\n",
       "    'content': \"# Asthma ### Asthma attack ### Asthma attack During an asthma attack, your narrowed airways make it harder to breathe and you may cough and wheeze. During an asthma attack, your narrowed airways make it harder to breathe and you may cough and wheeze. Because asthma often changes over time, it's important that you work with your doctor to track your signs and symptoms and adjust your treatment as needed. Asthma signs and symptoms include: If your asthma symptoms get worse. While there's no way to prevent asthma, you and your doctor can design a step-by-step plan for living with your condition and preventing asthma attacks. With your doctor and health care team, write a detailed plan for taking medications and managing an asthma attack. Asthma care at Mayo Clinic ## Asthma\",\n",
       "    'score': 0.4603137,\n",
       "    'raw_content': None},\n",
       "   {'title': 'Asthma Types, Causes, Symptoms, Treatment, Medicine, Prognosis',\n",
       "    'url': 'https://www.medicinenet.com/asthma_overview/article.htm',\n",
       "    'content': 'Asthma Types, Causes, Symptoms, Treatment, Medicine, Prognosis Asthma What is asthma? What are the symptoms of asthma? What is asthma? Severe asthma symptoms need medical care immediately. This data includes the age of asthma onset, the presence or absence of environmental allergies, the presence or absence of elevated blood or sputum levels of eosinophils (a type of white blood cell), lung function testing (spirometry and fractional excretion of nitric oxide), obesity, and cigarette smoke exposure. What are the symptoms of asthma? If asthma symptoms are worsening and the use of albuterol is increasing, then asthma patients should have a medical evaluation. An asthma action plan provides an individual with specific directions for daily asthma management and for adjusting medications in response to increasing symptoms or decreasing lung function. What Is Asthma? What is asthma?',\n",
       "    'score': 0.4549328,\n",
       "    'raw_content': None}],\n",
       "  'response_time': 1.95},\n",
       " 'summary': \"**Understanding Asthma: A Simple Guide**\\n\\nAsthma is a long-term lung condition that makes it hard to breathe. It happens when the airways in your lungs become narrow, swollen, and filled with extra mucus. This can lead to symptoms like coughing, wheezing, and feeling short of breath. \\n\\n### Key Points About Asthma:\\n\\n- **Chronic Condition**: Asthma is ongoing and doesn't go away on its own. It requires regular medical care and management.\\n  \\n- **Symptoms**: Common signs of asthma include:\\n  - Difficulty breathing\\n  - Coughing, especially at night or during exercise\\n  - Wheezing (a whistling sound when you breathe)\\n  \\n- **Asthma Attacks**: Sometimes, asthma symptoms can suddenly get worse, leading to an asthma attack. During an attack, it becomes very hard to breathe, and you may cough or wheeze more than usual.\\n\\n- **Causes**: Asthma can be triggered by various factors, including allergies, exercise, cold air, and smoke. \\n\\n- **Management**: While asthma can't be prevented, you can work with your doctor to create a personalized asthma action plan. This plan will help you manage your symptoms and know what to do during an asthma attack.\\n\\n- **When to See a Doctor**: If your symptoms worsen or if you find yourself needing your rescue inhaler (like albuterol) more often, it's important to consult your doctor.\\n\\n### Conclusion\\n\\nLiving with asthma means staying informed and prepared. By working closely with your healthcare team, you can manage your condition effectively and lead a healthy life.\",\n",
       " 'quiz_question': 'What is a common symptom of asthma?\\n\\nA) Increased energy levels  \\nB) Difficulty breathing  \\nC) Improved lung capacity  \\nD) Enhanced sense of smell  ',\n",
       " 'patient_answer': 'b',\n",
       " 'grade': 'Grade: A\\n\\nExplanation: The patient\\'s response correctly identifies \"Difficulty breathing\" (option B) as a common symptom of asthma, which is explicitly mentioned in the medical summary. This demonstrates a clear understanding of the condition and its symptoms, warranting a top grade.'}"
      ]
     },
     "execution_count": 11,
     "metadata": {},
     "output_type": "execute_result"
    }
   ],
   "source": [
    "def run_health_bot() -> State:\n",
    "    \"\"\"\n",
    "    Runs the HealthBot application, starting the conversation and managing the state.\n",
    "    Returns\n",
    "    -------\n",
    "    State\n",
    "        The final state of the conversation after the bot has completed its tasks.\n",
    "    \"\"\"\n",
    "    state = app.invoke(initial_state, config=config)\n",
    "    return state\n",
    "\n",
    "run_health_bot()"
   ]
  }
 ],
 "metadata": {
  "kernelspec": {
   "display_name": "Python 3 (ipykernel)",
   "language": "python",
   "name": "python3"
  },
  "language_info": {
   "codemirror_mode": {
    "name": "ipython",
    "version": 3
   },
   "file_extension": ".py",
   "mimetype": "text/x-python",
   "name": "python",
   "nbconvert_exporter": "python",
   "pygments_lexer": "ipython3",
   "version": "3.10.13"
  }
 },
 "nbformat": 4,
 "nbformat_minor": 5
}
